{
 "cells": [
  {
   "cell_type": "code",
   "execution_count": null,
   "id": "c41765c6",
   "metadata": {},
   "outputs": [],
   "source": [
    "import os\n",
    "\n",
    "import uvicorn\n",
    "from fastapi import FastAPI\n",
    "from fastapi.responses import FileResponse, Response\n",
    "from fastapi.staticfiles import StaticFiles\n",
    "from pydantic import BaseModel\n",
    "\n",
    "from utils.app_utils import TTSManager"
   ]
  },
  {
   "cell_type": "code",
   "execution_count": null,
   "id": "a356a23a",
   "metadata": {},
   "outputs": [],
   "source": [
    "app = FastAPI()\n",
    "\n",
    "tts_manager = TTSManager('app/static')\n",
    "\n",
    "class TTSRequest(BaseModel):\n",
    "    buckw: str\n",
    "    rate: float\n",
    "    denoise: float\n",
    "\n",
    "app.mount('/static', StaticFiles(directory='./app/static'), 'static')\n",
    "\n",
    "\n",
    "@app.get('/')\n",
    "async def main():\n",
    "    return FileResponse('./app/index.html')\n",
    "\n",
    "\n",
    "@app.get('/{filename}')\n",
    "async def get_file(filename: str):\n",
    "    filepath = f'./app/{filename}'\n",
    "    if os.path.exists(filepath):\n",
    "        return FileResponse(filepath)\n",
    "    return Response(status_code=404)\n",
    "\n",
    "\n",
    "@app.post('/api/tts')\n",
    "async def tts(req: TTSRequest):\n",
    "    print(req)\n",
    "    response_data = tts_manager.tts(req.buckw, req.rate, \n",
    "                                    req.denoise)\n",
    "\n",
    "    return response_data\n",
    "\n",
    "\n",
    "if __name__ == '__main__':\n",
    "    uvicorn.run(app, host=\"127.0.0.1\", port=8000)\n"
   ]
  }
 ],
 "metadata": {
  "kernelspec": {
   "display_name": "Python 3 (ipykernel)",
   "language": "python",
   "name": "python3"
  },
  "language_info": {
   "codemirror_mode": {
    "name": "ipython",
    "version": 3
   },
   "file_extension": ".py",
   "mimetype": "text/x-python",
   "name": "python",
   "nbconvert_exporter": "python",
   "pygments_lexer": "ipython3",
   "version": "3.11.5"
  }
 },
 "nbformat": 4,
 "nbformat_minor": 5
}
