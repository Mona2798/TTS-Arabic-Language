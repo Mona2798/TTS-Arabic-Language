{
 "cells": [
  {
   "cell_type": "code",
   "execution_count": 1,
   "id": "11687d9d",
   "metadata": {},
   "outputs": [
    {
     "ename": "ModuleNotFoundError",
     "evalue": "No module named 'torch'",
     "output_type": "error",
     "traceback": [
      "\u001b[1;31m---------------------------------------------------------------------------\u001b[0m",
      "\u001b[1;31mModuleNotFoundError\u001b[0m                       Traceback (most recent call last)",
      "Input \u001b[1;32mIn [1]\u001b[0m, in \u001b[0;36m<cell line: 3>\u001b[1;34m()\u001b[0m\n\u001b[0;32m      1\u001b[0m \u001b[38;5;28;01mimport\u001b[39;00m \u001b[38;5;21;01margparse\u001b[39;00m\n\u001b[0;32m      2\u001b[0m \u001b[38;5;28;01mimport\u001b[39;00m \u001b[38;5;21;01mos\u001b[39;00m\n\u001b[1;32m----> 3\u001b[0m \u001b[38;5;28;01mimport\u001b[39;00m \u001b[38;5;21;01mtorch\u001b[39;00m\n\u001b[0;32m      4\u001b[0m \u001b[38;5;28;01mimport\u001b[39;00m \u001b[38;5;21;01mtorchaudio\u001b[39;00m\n\u001b[0;32m      5\u001b[0m \u001b[38;5;28;01mimport\u001b[39;00m \u001b[38;5;21;01mtext\u001b[39;00m\n",
      "\u001b[1;31mModuleNotFoundError\u001b[0m: No module named 'torch'"
     ]
    }
   ],
   "source": [
    "import argparse\n",
    "import os\n",
    "import torch\n",
    "import torchaudio\n",
    "import text\n",
    "import utils.make_html as html\n",
    "\n",
    "from utils import progbar, read_lines_from_file\n",
    "\n",
    "# default:\n",
    "#python inference.py --list data/infer_text.txt --out_dir samples/results --model fastpitch --checkpoint pretrained/fastpitch_ar_adv.pth --batch_size 2 --denoise 0\n",
    "\n",
    "# Examples:\n",
    "#python inference.py --list data/infer_text.txt --out_dir samples/res_tc2_adv0 --model tacotron2 --checkpoint pretrained/tacotron2_ar_adv.pth --batch_size 2\n",
    "#python inference.py --list data/infer_text.txt --out_dir samples/res_tc2_adv1 --model tacotron2 --checkpoint pretrained/tacotron2_ar_adv.pth --batch_size 2 --denoise 0.01\n",
    "#python inference.py --list data/infer_text.txt --out_dir samples/res_fp_adv0 --model fastpitch --checkpoint pretrained/fastpitch_ar_adv.pth --batch_size 2\n",
    "#python inference.py --list data/infer_text.txt --out_dir samples/res_fp_adv1 --model fastpitch --checkpoint pretrained/fastpitch_ar_adv.pth --batch_size 2 --denoise 0.01\n"
   ]
  },
  {
   "cell_type": "code",
   "execution_count": null,
   "id": "23da8e23",
   "metadata": {},
   "outputs": [],
   "source": [
    "def infer(args):\n",
    "    device = torch.device('cuda' if torch.cuda.is_available() else 'cpu')\n",
    "\n",
    "    if args.model == 'fastpitch':\n",
    "        from models.fastpitch import FastPitch2Wave\n",
    "        model = FastPitch2Wave(args.checkpoint)\n",
    "    elif args.model == 'tacotron2':\n",
    "        from models.tacotron2 import Tacotron2Wave\n",
    "        model = Tacotron2Wave(args.checkpoint)\n",
    "    else:\n",
    "        raise \"model type not supported\"\n",
    "\n",
    "    model = model.to(device)\n",
    "    model.eval()\n",
    "\n",
    "    if not os.path.exists(f\"{args.out_dir}/wavs\"):\n",
    "        os.makedirs(f\"{args.out_dir}/wavs\")\n",
    "\n",
    "    static_lines = read_lines_from_file(args.list)\n",
    "    static_batches = [static_lines[k:k+args.batch_size]\n",
    "                      for k in range(0, len(static_lines), args.batch_size)]\n",
    "\n",
    "    idx = 0\n",
    "    with open(os.path.join(args.out_dir, 'index.html'), 'w', encoding='utf-8') as f:\n",
    "        f.write(html.make_html_start())\n",
    "\n",
    "        for batch in progbar(static_batches):\n",
    "            # infer batch\n",
    "            wav_list = model.tts(batch,\n",
    "                                 batch_size=args.batch_size,\n",
    "                                 denoise=args.denoise,\n",
    "                                 speed=args.speed)\n",
    "\n",
    "            # save wavs and add entries to html file\n",
    "            for (text_line, wav) in zip(batch, wav_list):\n",
    "                torchaudio.save(f'{args.out_dir}/wavs/static{idx}.wav',\n",
    "                                wav.unsqueeze(0),\n",
    "                                22_050)\n",
    "\n",
    "                text_buckw = text.arabic_to_buckwalter(text_line)\n",
    "                text_arabic = text.buckwalter_to_arabic(text_buckw)\n",
    "                t_phon = text.buckwalter_to_phonemes(text_buckw)\n",
    "                t_phon = text.simplify_phonemes(\n",
    "                    t_phon.replace(' ', '').replace('+', ' '))\n",
    "\n",
    "                f.write(html.make_sample_entry2(\n",
    "                    f'wavs/static{idx}.wav',\n",
    "                    text_arabic,\n",
    "                    f\"{idx}) {t_phon}\"))\n",
    "\n",
    "                idx += 1\n",
    "\n",
    "        f.write(html.make_volume_script(0.5))\n",
    "        f.write(html.make_html_end())\n",
    "\n",
    "    print(f\"Saved files to: {args.out_dir}\")\n",
    "\n"
   ]
  },
  {
   "cell_type": "code",
   "execution_count": null,
   "id": "4a7506e3",
   "metadata": {},
   "outputs": [],
   "source": [
    "def main():\n",
    "    parser = argparse.ArgumentParser()\n",
    "    parser.add_argument(\n",
    "        '--list', type=str, default='./data/infer_text.txt')\n",
    "    parser.add_argument(\n",
    "        '--model', type=str, default='fastpitch')\n",
    "    parser.add_argument(\n",
    "        '--checkpoint', type=str, default='pretrained/fastpitch_ar_adv.pth')\n",
    "    parser.add_argument('--out_dir', type=str, default='samples/results')\n",
    "    parser.add_argument('--speed', type=float, default=1.0)\n",
    "    parser.add_argument('--denoise', type=float, default=0)\n",
    "    parser.add_argument('--batch_size', type=int, default=2)\n",
    "    parser.add_argument('--device', type=str,\n",
    "                        default='cuda', choices=['cuda', 'cpu'])\n",
    "    args = parser.parse_args()\n",
    "\n",
    "    infer(args)\n",
    "\n",
    "\n",
    "if __name__ == '__main__':\n",
    "    main()"
   ]
  }
 ],
 "metadata": {
  "kernelspec": {
   "display_name": "Python 3 (ipykernel)",
   "language": "python",
   "name": "python3"
  },
  "language_info": {
   "codemirror_mode": {
    "name": "ipython",
    "version": 3
   },
   "file_extension": ".py",
   "mimetype": "text/x-python",
   "name": "python",
   "nbconvert_exporter": "python",
   "pygments_lexer": "ipython3",
   "version": "3.9.12"
  }
 },
 "nbformat": 4,
 "nbformat_minor": 5
}
